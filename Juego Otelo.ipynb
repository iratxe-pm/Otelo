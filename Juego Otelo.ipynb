{
 "cells": [
  {
   "cell_type": "markdown",
   "id": "d7e125b4-37f0-4c2f-a466-5a9ab6122ce8",
   "metadata": {},
   "source": [
    "# JUEGO BASE #"
   ]
  },
  {
   "cell_type": "code",
   "execution_count": 96,
   "id": "d0575bff-b828-4050-b3c9-223a310e126f",
   "metadata": {},
   "outputs": [],
   "source": [
    "#Tablero\n",
    "#Se encarga de mostrar el tablero y las fichas\n",
    "def mostrar_tablero(tablero):\n",
    "    print(\"\\n   0   1   2   3   4   5   6   7\")\n",
    "    print(\"  +---+---+---+---+---+---+---+---+\")\n",
    "    blancas_coords = []\n",
    "    negras_coords = []\n",
    "\n",
    "    for fila in range(8):\n",
    "        print(f\"{fila} |\", end=\"\")\n",
    "        for columna in range(8):\n",
    "            if tablero[fila][columna] == 0:\n",
    "                print(\"   |\", end=\"\")\n",
    "            elif tablero[fila][columna] == 1:\n",
    "                print(\" ● |\", end=\"\")  # Negra\n",
    "                negras_coords.append((fila, columna))\n",
    "            else:\n",
    "                print(\" ○ |\", end=\"\")  # Blanca\n",
    "                blancas_coords.append((fila, columna))\n",
    "        print(\"\\n  +---+---+---+---+---+---+---+---+\")\n"
   ]
  },
  {
   "cell_type": "code",
   "execution_count": 97,
   "id": "89fab044-f3af-4383-8c4e-bc1999d5ba50",
   "metadata": {},
   "outputs": [],
   "source": [
    "#Se encarga de actualizar la posición de las piezas en el tablero a medida que avanza el juego\n",
    "def modificar_tablero(tablero):\n",
    "    turno = 1  # Empieza el jugador negro\n",
    "\n",
    "    while True:\n",
    "        mostrar_tablero(tablero)\n",
    "        \n",
    "        if turno == 1:\n",
    "            print(\"\\nTurno del jugador NEGRO (●)\")\n",
    "        else:\n",
    "            print(\"\\nTurno del jugador BLANCO (○)\")\n",
    "            \n",
    "        print(\"Opciones:\")\n",
    "        print(\"1. Mover ficha\")\n",
    "        print(\"2. Terminar el juego\")\n",
    "        \n",
    "        opcion = input(\"Seleccione una opción (1-2): \")\n",
    "        \n",
    "        if opcion == \"2\":\n",
    "            break\n",
    "            \n",
    "        try:\n",
    "            #Selección de ficha a mover\n",
    "            fila = int(input(\"Ingrese la fila de la ficha a mover (0-7): \"))\n",
    "            columna = int(input(\"Ingrese la columna de la ficha a mover (0-7): \"))\n",
    "            \n",
    "            #Mira que las coordenadas estén dentro del tablero\n",
    "            if not (0 <= fila <= 7 and 0 <= columna <= 7):\n",
    "                print(\"Posición inválida. Las coordenadas deben estar entre 0 y 7.\")\n",
    "                continue\n",
    "            \n",
    "            #Mira que se mueva una ficha que realmente sea la suya\n",
    "            if (turno == 1 and tablero[fila][columna] != 1) or (turno == 2 and tablero[fila][columna] != 2):\n",
    "                    print(\"Error: Esa no es tu ficha. Intenta de nuevo.\")\n",
    "                    continue\n",
    "            \n",
    "            #Selección de casilla a la que se mueve la ficha\n",
    "            new_fila = int(input(\"Ingrese la fila a donde va a mover la ficha (0-7): \"))\n",
    "            new_columna = int(input(\"Ingrese la columna a donde va a mover la ficha (0-7): \"))\n",
    "            \n",
    "            #Mira que las coordenadas a donde se mueve estén dentro del tablero\n",
    "            if not (0 <= new_fila <= 7 and 0 <= new_columna <= 7):\n",
    "                print(\"Posición inválida. Las coordenadas deben estar entre 0 y 7.\")\n",
    "                continue\n",
    "\n",
    "            if turno == 1: #turno de las negras\n",
    "                tablero[fila][columna] = 0  # Limpiar casilla\n",
    "                tablero[new_fila][new_columna] = 1  # Ficha negra\n",
    "                turno = 2\n",
    "            elif turno == 2: #turno de las blancas\n",
    "                tablero[fila][columna] = 0  # Limpiar casilla\n",
    "                tablero[new_fila][new_columna] = 2  # Ficha blanca\n",
    "                turno = 1\n",
    "            else:\n",
    "                print(\"Opción no válida. Intente de nuevo.\")\n",
    "            \n",
    "\n",
    "        except ValueError:\n",
    "            print(\"Por favor ingrese números válidos.\")\n",
    "\n",
    "            "
   ]
  },
  {
   "cell_type": "code",
   "execution_count": 98,
   "id": "05536460-2141-4ee2-936a-2f31bc74f7f8",
   "metadata": {},
   "outputs": [],
   "source": [
    "#Ficha blanca\n",
    "#Lista de fichas blancas que están en el tablero, cada vez que hay una nueva ficha blanca se añade a esta lista\n",
    "def ficha_negra ():\n",
    "     return [[4, 4], [3, 3]]\n"
   ]
  },
  {
   "cell_type": "code",
   "execution_count": 99,
   "id": "1df31735-23b9-4b06-86a8-19b837a2f3ec",
   "metadata": {},
   "outputs": [],
   "source": [
    "#Ficha blanca\n",
    "#Lista de fichas blancas que están en el tablero, cada vez que hay una nueva ficha blanca se añade a esta lista\n",
    "def ficha_blanca ():\n",
    "     return [[3, 4], [4, 3]]"
   ]
  },
  {
   "cell_type": "markdown",
   "id": "ca619e6f-59e0-4318-864a-4cc7edf84232",
   "metadata": {},
   "source": [
    "## REGLAS ##"
   ]
  },
  {
   "cell_type": "markdown",
   "id": "1d68ad63-b3a6-4b86-8942-77edfca80c28",
   "metadata": {},
   "source": [
    "#### INICIALIZA TABLERO ####"
   ]
  },
  {
   "cell_type": "code",
   "execution_count": 100,
   "id": "844205b8-5cf8-43d4-ac81-e9ce55b1db6a",
   "metadata": {},
   "outputs": [],
   "source": [
    "#inicializa tablero:\n",
    "# 0 = casilla vacía, 1 = ficha negra, 2 = ficha blanca\n",
    "# estado inicial del tablero\n",
    "def tablero(blanca, negra) : \n",
    "    Tablero = []\n",
    "    for fila in range (0,8):\n",
    "        Fila = []\n",
    "        for columna in range (0,8):\n",
    "            Fila.append(0)\n",
    "        Tablero.append(Fila)\n",
    "\n",
    "    for i in blanca:\n",
    "        Tablero [i[0]][i[1]] = 2\n",
    "\n",
    "    for i in negra:\n",
    "        Tablero [i[0]][i[1]] = 1\n",
    "\n",
    "    return Tablero\n",
    "    \n"
   ]
  },
  {
   "cell_type": "markdown",
   "id": "3bf39f2c-3ae1-4d3a-ad2f-3095f9313f66",
   "metadata": {},
   "source": [
    "#### TURNOS DE JUEGO ####"
   ]
  },
  {
   "cell_type": "code",
   "execution_count": null,
   "id": "9a629050-bb79-47fe-9e40-f2de64f2138f",
   "metadata": {},
   "outputs": [],
   "source": []
  },
  {
   "cell_type": "markdown",
   "id": "2783a24c-4fd4-470d-b60b-6564aefbc01a",
   "metadata": {},
   "source": [
    "## JUEGO FÍSICO ##"
   ]
  },
  {
   "cell_type": "code",
   "execution_count": 102,
   "id": "d9f22bab-443a-4179-81c0-10c4eb8d5035",
   "metadata": {},
   "outputs": [
    {
     "name": "stdout",
     "output_type": "stream",
     "text": [
      "Bienvenido al editor de tablero de Otelo\n",
      "\n",
      "   0   1   2   3   4   5   6   7\n",
      "  +---+---+---+---+---+---+---+---+\n",
      "0 |   |   |   |   |   |   |   |   |\n",
      "  +---+---+---+---+---+---+---+---+\n",
      "1 |   |   |   |   |   |   |   |   |\n",
      "  +---+---+---+---+---+---+---+---+\n",
      "2 |   |   |   |   |   |   |   |   |\n",
      "  +---+---+---+---+---+---+---+---+\n",
      "3 |   |   |   | ● | ○ |   |   |   |\n",
      "  +---+---+---+---+---+---+---+---+\n",
      "4 |   |   |   | ○ | ● |   |   |   |\n",
      "  +---+---+---+---+---+---+---+---+\n",
      "5 |   |   |   |   |   |   |   |   |\n",
      "  +---+---+---+---+---+---+---+---+\n",
      "6 |   |   |   |   |   |   |   |   |\n",
      "  +---+---+---+---+---+---+---+---+\n",
      "7 |   |   |   |   |   |   |   |   |\n",
      "  +---+---+---+---+---+---+---+---+\n",
      "\n",
      "Turno del jugador NEGRO (●)\n",
      "Opciones:\n",
      "1. Mover ficha\n",
      "2. Terminar el juego\n"
     ]
    },
    {
     "name": "stdin",
     "output_type": "stream",
     "text": [
      "Seleccione una opción (1-2):  3\n",
      "Ingrese la fila de la ficha a mover (0-7):  3\n",
      "Ingrese la columna de la ficha a mover (0-7):  7\n"
     ]
    },
    {
     "name": "stdout",
     "output_type": "stream",
     "text": [
      "Error: Esa no es tu ficha. Intenta de nuevo.\n",
      "\n",
      "   0   1   2   3   4   5   6   7\n",
      "  +---+---+---+---+---+---+---+---+\n",
      "0 |   |   |   |   |   |   |   |   |\n",
      "  +---+---+---+---+---+---+---+---+\n",
      "1 |   |   |   |   |   |   |   |   |\n",
      "  +---+---+---+---+---+---+---+---+\n",
      "2 |   |   |   |   |   |   |   |   |\n",
      "  +---+---+---+---+---+---+---+---+\n",
      "3 |   |   |   | ● | ○ |   |   |   |\n",
      "  +---+---+---+---+---+---+---+---+\n",
      "4 |   |   |   | ○ | ● |   |   |   |\n",
      "  +---+---+---+---+---+---+---+---+\n",
      "5 |   |   |   |   |   |   |   |   |\n",
      "  +---+---+---+---+---+---+---+---+\n",
      "6 |   |   |   |   |   |   |   |   |\n",
      "  +---+---+---+---+---+---+---+---+\n",
      "7 |   |   |   |   |   |   |   |   |\n",
      "  +---+---+---+---+---+---+---+---+\n",
      "\n",
      "Turno del jugador NEGRO (●)\n",
      "Opciones:\n",
      "1. Mover ficha\n",
      "2. Terminar el juego\n"
     ]
    },
    {
     "name": "stdin",
     "output_type": "stream",
     "text": [
      "Seleccione una opción (1-2):  1\n",
      "Ingrese la fila de la ficha a mover (0-7):  3\n",
      "Ingrese la columna de la ficha a mover (0-7):  3\n",
      "Ingrese la fila a donde va a mover la ficha (0-7):  7\n",
      "Ingrese la columna a donde va a mover la ficha (0-7):  7\n"
     ]
    },
    {
     "name": "stdout",
     "output_type": "stream",
     "text": [
      "\n",
      "   0   1   2   3   4   5   6   7\n",
      "  +---+---+---+---+---+---+---+---+\n",
      "0 |   |   |   |   |   |   |   |   |\n",
      "  +---+---+---+---+---+---+---+---+\n",
      "1 |   |   |   |   |   |   |   |   |\n",
      "  +---+---+---+---+---+---+---+---+\n",
      "2 |   |   |   |   |   |   |   |   |\n",
      "  +---+---+---+---+---+---+---+---+\n",
      "3 |   |   |   |   | ○ |   |   |   |\n",
      "  +---+---+---+---+---+---+---+---+\n",
      "4 |   |   |   | ○ | ● |   |   |   |\n",
      "  +---+---+---+---+---+---+---+---+\n",
      "5 |   |   |   |   |   |   |   |   |\n",
      "  +---+---+---+---+---+---+---+---+\n",
      "6 |   |   |   |   |   |   |   |   |\n",
      "  +---+---+---+---+---+---+---+---+\n",
      "7 |   |   |   |   |   |   |   | ● |\n",
      "  +---+---+---+---+---+---+---+---+\n",
      "\n",
      "Turno del jugador BLANCO (○)\n",
      "Opciones:\n",
      "1. Mover ficha\n",
      "2. Terminar el juego\n"
     ]
    },
    {
     "name": "stdin",
     "output_type": "stream",
     "text": [
      "Seleccione una opción (1-2):  4\n",
      "Ingrese la fila de la ficha a mover (0-7):  4\n",
      "Ingrese la columna de la ficha a mover (0-7):  4\n"
     ]
    },
    {
     "name": "stdout",
     "output_type": "stream",
     "text": [
      "Error: Esa no es tu ficha. Intenta de nuevo.\n",
      "\n",
      "   0   1   2   3   4   5   6   7\n",
      "  +---+---+---+---+---+---+---+---+\n",
      "0 |   |   |   |   |   |   |   |   |\n",
      "  +---+---+---+---+---+---+---+---+\n",
      "1 |   |   |   |   |   |   |   |   |\n",
      "  +---+---+---+---+---+---+---+---+\n",
      "2 |   |   |   |   |   |   |   |   |\n",
      "  +---+---+---+---+---+---+---+---+\n",
      "3 |   |   |   |   | ○ |   |   |   |\n",
      "  +---+---+---+---+---+---+---+---+\n",
      "4 |   |   |   | ○ | ● |   |   |   |\n",
      "  +---+---+---+---+---+---+---+---+\n",
      "5 |   |   |   |   |   |   |   |   |\n",
      "  +---+---+---+---+---+---+---+---+\n",
      "6 |   |   |   |   |   |   |   |   |\n",
      "  +---+---+---+---+---+---+---+---+\n",
      "7 |   |   |   |   |   |   |   | ● |\n",
      "  +---+---+---+---+---+---+---+---+\n",
      "\n",
      "Turno del jugador BLANCO (○)\n",
      "Opciones:\n",
      "1. Mover ficha\n",
      "2. Terminar el juego\n"
     ]
    },
    {
     "name": "stdin",
     "output_type": "stream",
     "text": [
      "Seleccione una opción (1-2):  1\n",
      "Ingrese la fila de la ficha a mover (0-7):  3\n",
      "Ingrese la columna de la ficha a mover (0-7):  4\n",
      "Ingrese la fila a donde va a mover la ficha (0-7):  6\n",
      "Ingrese la columna a donde va a mover la ficha (0-7):  6\n"
     ]
    },
    {
     "name": "stdout",
     "output_type": "stream",
     "text": [
      "\n",
      "   0   1   2   3   4   5   6   7\n",
      "  +---+---+---+---+---+---+---+---+\n",
      "0 |   |   |   |   |   |   |   |   |\n",
      "  +---+---+---+---+---+---+---+---+\n",
      "1 |   |   |   |   |   |   |   |   |\n",
      "  +---+---+---+---+---+---+---+---+\n",
      "2 |   |   |   |   |   |   |   |   |\n",
      "  +---+---+---+---+---+---+---+---+\n",
      "3 |   |   |   |   |   |   |   |   |\n",
      "  +---+---+---+---+---+---+---+---+\n",
      "4 |   |   |   | ○ | ● |   |   |   |\n",
      "  +---+---+---+---+---+---+---+---+\n",
      "5 |   |   |   |   |   |   |   |   |\n",
      "  +---+---+---+---+---+---+---+---+\n",
      "6 |   |   |   |   |   |   | ○ |   |\n",
      "  +---+---+---+---+---+---+---+---+\n",
      "7 |   |   |   |   |   |   |   | ● |\n",
      "  +---+---+---+---+---+---+---+---+\n",
      "\n",
      "Turno del jugador NEGRO (●)\n",
      "Opciones:\n",
      "1. Mover ficha\n",
      "2. Terminar el juego\n"
     ]
    },
    {
     "name": "stdin",
     "output_type": "stream",
     "text": [
      "Seleccione una opción (1-2):  2\n"
     ]
    }
   ],
   "source": [
    "def main():\n",
    "    print(\"Bienvenido al editor de tablero de Otelo\")\n",
    "    \n",
    "    # Inicializar tablero vacío\n",
    "    \n",
    "    # Permitir al usuario modificar el tablero\n",
    "    modificar_tablero(tablero(ficha_blanca (), ficha_negra ()))\n",
    "\n",
    "if __name__ == \"__main__\":\n",
    "    main()\n",
    "    "
   ]
  },
  {
   "cell_type": "code",
   "execution_count": null,
   "id": "dd63954f-15e2-4071-b462-a709fff335e2",
   "metadata": {},
   "outputs": [],
   "source": []
  },
  {
   "cell_type": "code",
   "execution_count": null,
   "id": "e5b4bbf0-4a40-4c9c-9b1b-16c616a06881",
   "metadata": {},
   "outputs": [],
   "source": []
  }
 ],
 "metadata": {
  "kernelspec": {
   "display_name": "Python 3 (ipykernel)",
   "language": "python",
   "name": "python3"
  },
  "language_info": {
   "codemirror_mode": {
    "name": "ipython",
    "version": 3
   },
   "file_extension": ".py",
   "mimetype": "text/x-python",
   "name": "python",
   "nbconvert_exporter": "python",
   "pygments_lexer": "ipython3",
   "version": "3.12.7"
  }
 },
 "nbformat": 4,
 "nbformat_minor": 5
}

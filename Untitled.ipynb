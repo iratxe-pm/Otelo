{
 "cells": [
  {
   "cell_type": "code",
   "execution_count": 1,
   "id": "ec7ed9c9-387f-4c42-b7b8-5fc6f440cdd4",
   "metadata": {},
   "outputs": [],
   "source": [
    "#se le manda la ficha a cambiar, en la posicion que se quiere cambiar\n",
    "def obtener_fichas_cambiar_a_negra(posicion_fila_ficha,posicion_columna_ficha):\n",
    "\n",
    "    direcciones = [(-1,0),(1,0),(0,1),(0,-1),(1,-1),(-1,1),(1,1),(-1,-1)]\n",
    "    fichas_cambiar_a_negro = []\n",
    "   \n",
    "    for dx,dy in direcciones:\n",
    "        fila, columna = posicion_fila_ficha + dx, posicion_columna_ficha + dy\n",
    "        fichas_blancas_cambiar = []\n",
    "        while 0<=fila<8 and 0<=columna<8:\n",
    "            if [fila,columna] in ficha_blanca():\n",
    "                fichas_blancas_cambiar.append([fila,columna])\n",
    "            elif [fila,columna] in ficha_negra():\n",
    "                #se para de coger fichas blancas\n",
    "                if fichas_blancas_cambiar:\n",
    "                    #hago extend, para no tener una lista dentro de otra lista\n",
    "                    fichas_cambiar_a_negro.extend(fichas_blancas_cambiar)\n",
    "                    break\n",
    "            else:\n",
    "                break\n",
    "                    \n",
    "    return fichas_cambiar_a_negro"
   ]
  },
  {
   "cell_type": "code",
   "execution_count": 3,
   "id": "337ca8ed-e02d-4eba-96ab-bbed4c8a7a5d",
   "metadata": {},
   "outputs": [],
   "source": [
    "def obtener_fichas_cambiar_a_blanca(posicion_fila_ficha,posicion_columna_ficha):\n",
    "    direcciones = [(-1,0),(1,0),(0,1),(0,-1),(1,-1),(-1,1),(1,1),(-1,-1)]\n",
    "    fichas_cambiar_a_blanco = []\n",
    "    for dx,dy in direcciones:\n",
    "        fila, columna = posicion_fila_ficha + dx, posicion_columna_ficha + dy\n",
    "        fichas_negras_cambiar = []\n",
    "        while 0<=fila<8 and 0<=columna<8:\n",
    "            if [fila,columna] in ficha_negra():\n",
    "                fichas_negras_cambiar.append([fila,columna])\n",
    "            elif [fila,columna] in ficha_blanca():\n",
    "                #se para de coger fichas negras\n",
    "                if fichas_negras_cambiar:\n",
    "                    #hago extend, para no tener una lista dentro de otra lista\n",
    "                    fichas_cambiar_a_blanco.extend(fichas_negras_cambiar)\n",
    "                    break\n",
    "            else:\n",
    "                break\n",
    "                \n",
    "    return fichas_cambiar_a_blanco"
   ]
  },
  {
   "cell_type": "code",
   "execution_count": null,
   "id": "b4122380-451f-4924-9bfa-6bde55026b93",
   "metadata": {},
   "outputs": [],
   "source": [
    "def cambio_de_color_fichas(ficha_añado,posicion_fila_ficha,posicion_columna_ficha):\n",
    "    if(ficha_añado==\"blanca\"):\n",
    "        negras = obtener_fichas_cambiar_a_blanca(posicion_fila_ficha,posicion_columna_ficha)\n",
    "        for n in negras:\n",
    "            ficha_blanca().append(n)\n",
    "            ficha_negra().remove(n)\n",
    "\n",
    "    else:\n",
    "        blancas = obtener_fichas_cambiar_a_negra(posicion_fila_ficha,posicion_columna_ficha)\n",
    "        for n in blancas:\n",
    "            ficha_blanca().remove(n)\n",
    "            ficha_negra().append(n)"
   ]
  }
 ],
 "metadata": {
  "kernelspec": {
   "display_name": "Python [conda env:base] *",
   "language": "python",
   "name": "conda-base-py"
  },
  "language_info": {
   "codemirror_mode": {
    "name": "ipython",
    "version": 3
   },
   "file_extension": ".py",
   "mimetype": "text/x-python",
   "name": "python",
   "nbconvert_exporter": "python",
   "pygments_lexer": "ipython3",
   "version": "3.12.7"
  }
 },
 "nbformat": 4,
 "nbformat_minor": 5
}
